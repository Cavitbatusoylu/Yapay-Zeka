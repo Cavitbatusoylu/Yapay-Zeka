{
 "cells": [
  {
   "cell_type": "code",
   "execution_count": null,
   "id": "95f1f811-8d45-4a7c-b774-1206003e1aa4",
   "metadata": {},
   "outputs": [],
   "source": [
    "#BÖLÜM 2:ARAŞTIRMA GÖREVİ\n",
    "#WHİLE DÖNGÜSÜ NEDİR VE FOR DÖNGÜSÜNDEN FARKI NEDİR?\n",
    "\n",
    "# =>While döngüsü, belirli bir koşul doğru (true) olduğu sürece çalışan bir döngüdür.\n",
    "# Koşul sağlandığı sürece döngü devam eder; koşul yanlış (false) olduğunda döngü sona erer.\n",
    "\n",
    "# Kullanım amacı:\n",
    "# -->while genellikle döngü tekrar sayısının bilinmediği durumlarda kullanılır.\n",
    "# -->for ise belirli bir sayıda tekrar edeceği bilinen durumlar için uygundur.\n",
    "\n",
    "# Yapı farkı:\n",
    "# -->For döngüsü, sayaç değişkeni, koşul ve artırma/azaltma işlemini tek bir satırda tanımlayabilir.\n",
    "# -->While döngüsünde sayaç değişkeni genellikle döngüden önce tanımlanır ve artırma/azaltma işlemi döngü içinde yapılır.\n",
    "\n",
    "# Sözdizimi:\n",
    "# -->for döngüsünde üç bileşen (başlangıç, koşul, güncelleme) tek satırda belirtilir.\n",
    "# -->while döngüsünde yalnızca koşul belirtilir."
   ]
  },
  {
   "cell_type": "code",
   "execution_count": 3,
   "id": "346f8275-7ffb-42c4-b986-1dc0849be6a5",
   "metadata": {},
   "outputs": [
    {
     "name": "stdout",
     "output_type": "stream",
     "text": [
      "1 + 2 + 3 + 4 + 5 + 6 + 7 + 8 + 9 + 10 + 11 + 12 + 13 + 14 + 15 + 16 + 17 + 18 + 19 + 20 + 21 + 22 + 23 + 24 + 25 + 26 + 27 + 28 + 29 + 30 + 31 + 32 + 33 + 34 + 35 + 36 + 37 + 38 + 39 + 40 + 41 + 42 + 43 + 44 + 45 + 46 + 47 + 48 + 49 + 50 + 51 + 52 + 53 + 54 + 55 + 56 + 57 + 58 + 59 + 60 + 61 + 62 + 63 + 64 + 65 + 66 + 67 + 68 + 69 + 70 + 71 + 72 + 73 + 74 + 75 + 76 + 77 + 78 + 79 + 80 + 81 + 82 + 83 + 84 + 85 + 86 + 87 + 88 + 89 + 90 + 91 + 92 + 93 + 94 + 95 + 96 + 97 + 98 + 99 + 100 = 5050\n"
     ]
    }
   ],
   "source": [
    "#HANGİ DURUMLARDA WHİLE DÖNGÜSÜ DAHA KULLANIŞŞLIDIR? BİR ÖRNEK BULUP AÇIKLAYIN\n",
    "\n",
    "# =>While döngüsü genellikle döngü tekrar sayısının önceden bilinmediği veya koşula bağlı\n",
    "# olarak çalışması gerektiği durumlarda daha kullanışlıdır.\n",
    "\n",
    "#Örneğin:1'den 100'e Kadar Olan Sayıların Toplamını Bulma\n",
    "sayi = 1\n",
    "toplam = 0\n",
    "\n",
    "while sayi <= 100:\n",
    "    if sayi < 100:\n",
    "        print(sayi, end=\" + \")\n",
    "    else:\n",
    "        print(sayi, end=\" = \")\n",
    "    \n",
    "    toplam += sayi\n",
    "    sayi += 1\n",
    "\n",
    "print(toplam)"
   ]
  },
  {
   "cell_type": "code",
   "execution_count": null,
   "id": "cb40fa30-2b97-4545-a598-87506146fc92",
   "metadata": {},
   "outputs": [],
   "source": [
    "#WHİLE DÖNGÜSÜNÜN ÇALIŞMA MEKANİZMASINI ARAŞTIRIN VE ÇİZİN\n",
    "\n",
    "# =>While döngüsü, belirtilen bir koşul doğru (True) olduğu sürece çalışan bir döngüdür. \n",
    "# Koşul yanlış (False) olduğunda döngü sona erer.\n",
    "\n",
    "#Çalışma Adımları:\n",
    "#->Koşul kontrol edilir.\n",
    "#->Eğer koşul doğru (True) ise, döngü bloğu çalışır.\n",
    "#->Koşul tekrar kontrol edilir.\n",
    "#->Koşul doğru olduğu sürece döngü tekrar eder.\n",
    "#->Koşul yanlış (False) olduğunda döngü sona erer ve program akışı döngüden sonraki kısma geçer.\n",
    "\n",
    "#          Başlat\n",
    "#            │\n",
    "#            ▼\n",
    "#    Koşul Doğru mu? ──► Hayır (Döngü Biter)\n",
    "#            │\n",
    "#           Evet\n",
    "#            │\n",
    "#            ▼\n",
    "#      Döngü Bloğunu Çalıştır\n",
    "#            │\n",
    "#            ▼\n",
    "#     Koşulu Tekrar Kontrol Et\n",
    "#            │\n",
    "#           ↺ (Tekrar başa döner)"
   ]
  },
  {
   "cell_type": "code",
   "execution_count": 1,
   "id": "b910f932-0e92-4360-8784-0797b2428eec",
   "metadata": {},
   "outputs": [
    {
     "name": "stdout",
     "output_type": "stream",
     "text": [
      "Birinci sayıyı girin:  10\n",
      "İkinci sayıyı girin:  5\n"
     ]
    },
    {
     "name": "stdout",
     "output_type": "stream",
     "text": [
      "Girilen sayıların toplamı: 15\n"
     ]
    }
   ],
   "source": [
    "# BÖLÜM 3:ALGORİTMA SORULARI\n",
    "\n",
    "# SORU 1:SAYILARIN TOPLAMI(Kullanıcıdan iki tam sayı alın ve toplamını ekrana yazdırın.)\n",
    "\n",
    "sayi1 = int(input(\"Birinci sayıyı girin: \"))\n",
    "sayi2 = int(input(\"İkinci sayıyı girin: \"))\n",
    "\n",
    "toplam = sayi1 + sayi2\n",
    "\n",
    "print(\"Girilen sayıların toplamı:\", toplam)\n"
   ]
  },
  {
   "cell_type": "code",
   "execution_count": 9,
   "id": "d30bd249-96b8-4955-8c40-a3711baa2153",
   "metadata": {},
   "outputs": [
    {
     "name": "stdout",
     "output_type": "stream",
     "text": [
      "Bir tam sayı girin:  0\n"
     ]
    },
    {
     "name": "stdout",
     "output_type": "stream",
     "text": [
      "Sıfır\n"
     ]
    }
   ],
   "source": [
    "# SORU 2:POZİTİF VEYA NEGATİF(Kullanıcıdan bir tam sayı alın. Pozitifse “Pozitif”, \n",
    "# negatifse “Negatif”, sıfırsa “Sıfır” yazdırın.)\n",
    "\n",
    "sayi = int(input(\"Bir tam sayı girin: \"))\n",
    "\n",
    "if sayi > 0:\n",
    "    print(\"Pozitif\")\n",
    "elif sayi < 0:\n",
    "    print(\"Negatif\")\n",
    "else:\n",
    "    print(\"Sıfır\")\n"
   ]
  },
  {
   "cell_type": "code",
   "execution_count": 15,
   "id": "b584fdec-ae43-446c-81ac-f2f0531a3b5b",
   "metadata": {},
   "outputs": [
    {
     "name": "stdout",
     "output_type": "stream",
     "text": [
      "Birinci tam sayıyı girin:  5\n",
      "İkinci tam sayıyı girin:  6\n",
      "Üçüncü tam sayıyı girin:  7\n"
     ]
    },
    {
     "name": "stdout",
     "output_type": "stream",
     "text": [
      "En büyük sayi =  7\n"
     ]
    }
   ],
   "source": [
    "# SORU 3:EN BÜYÜK SAYI(Kullanıcıdan üç tam sayı alın ve en büyüğünü ekrana yazdırın.)\n",
    "\n",
    "sayi1 = int(input(\"Birinci tam sayıyı girin: \"))\n",
    "sayi2 = int(input(\"İkinci tam sayıyı girin: \"))\n",
    "sayi3 = int(input(\"Üçüncü tam sayıyı girin: \"))\n",
    "\n",
    "if sayi1 >= sayi2 and sayi1 >= sayi3:\n",
    "    enbuyuk= sayi1\n",
    "elif sayi2 >= sayi1 and sayi2 >= sayi3:\n",
    "    enbuyuk = sayi2\n",
    "else:\n",
    "    enbuyuk = sayi3\n",
    "\n",
    "print(\"En büyük sayi = \",enbuyuk)"
   ]
  },
  {
   "cell_type": "code",
   "execution_count": 17,
   "id": "29bf08a6-c61e-4a27-8a44-2afec11e162f",
   "metadata": {},
   "outputs": [
    {
     "name": "stdout",
     "output_type": "stream",
     "text": [
      "Bir tam sayı girin:  5\n"
     ]
    },
    {
     "name": "stdout",
     "output_type": "stream",
     "text": [
      "Tek\n"
     ]
    }
   ],
   "source": [
    "# SORU 4:ÇİFT VEYA TEK(Kullanıcıdan bir tam sayı alın ve çift mi tek mi olduğunu yazdırın.)\n",
    "\n",
    "sayi = int(input(\"Bir tam sayı girin: \"))\n",
    "\n",
    "if sayi % 2 == 0:\n",
    "    print(\"Çift\")\n",
    "else:\n",
    "    print(\"Tek\")"
   ]
  },
  {
   "cell_type": "code",
   "execution_count": 21,
   "id": "0abf5e81-af8b-40ff-9a6b-afb58f61d9f1",
   "metadata": {},
   "outputs": [
    {
     "name": "stdout",
     "output_type": "stream",
     "text": [
      "1 ile 7 arasında bir sayı giriniz:  1\n"
     ]
    },
    {
     "name": "stdout",
     "output_type": "stream",
     "text": [
      "Pazartesi\n"
     ]
    }
   ],
   "source": [
    "# SORU 5:HAFTANIN GÜNÜ(Soru: Kullanıcıdan 1-7 arası bir sayı alın ve haftanın gününü yazdırın \n",
    "# (1: Pazartesi, …, 7: Pazar). Geçersizse “Geçersiz gün” yazdırın.)\n",
    "\n",
    "gun = int(input(\"1 ile 7 arasında bir sayı giriniz: \"))\n",
    "\n",
    "match gun:\n",
    "    case 1:\n",
    "        print(\"Pazartesi\")\n",
    "    case 2:\n",
    "        print(\"Salı\")\n",
    "    case 3:\n",
    "        print(\"Çarşamba\")\n",
    "    case 4:\n",
    "        print(\"Perşembe\")\n",
    "    case 5:\n",
    "        print(\"Cuma\")\n",
    "    case 6:\n",
    "        print(\"Cumartesi\")\n",
    "    case 7:\n",
    "        print(\"Pazar\")\n",
    "    case _:\n",
    "        print(\"Geçersiz Gün\")\n"
   ]
  },
  {
   "cell_type": "code",
   "execution_count": 26,
   "id": "bde2a389-29e9-4dd9-a3f0-c061fcda2bc0",
   "metadata": {},
   "outputs": [
    {
     "name": "stdout",
     "output_type": "stream",
     "text": [
      "Birinci tam sayıyı girin:  15\n",
      "İkinci tam sayıyı girin:  0\n",
      "Yapmak istediğiniz işlemi giriniz (+,-,*,/):  /\n"
     ]
    },
    {
     "name": "stdout",
     "output_type": "stream",
     "text": [
      "Tanımsız sonuç...\n"
     ]
    }
   ],
   "source": [
    "# SORU 6:BASİT HESAP MAKİNESİ(Kullanıcıdan iki tam sayı ve bir işlem (+, -, *, /) alın. Sonucu yazdırın.)\n",
    "\n",
    "sayi1 = int(input(\"Birinci tam sayıyı girin: \"))\n",
    "sayi2 = int(input(\"İkinci tam sayıyı girin: \"))\n",
    "islem = input(\"Yapmak istediğiniz işlemi giriniz (+,-,*,/): \")\n",
    "\n",
    "match islem:\n",
    "    case '+':\n",
    "        print(\"Sonuc: \", sayi1+sayi2)\n",
    "    case '-':\n",
    "        print(\"Sonuc: \", sayi1-sayi2)\n",
    "    case '*':\n",
    "        print(\"Sonuc: \", sayi1*sayi2)\n",
    "    case '/':\n",
    "        if sayi2 != 0:\n",
    "            print(\"Sonuc :\",sayi1 / sayi2)\n",
    "        else:\n",
    "            print(\"Tanımsız sonuç...\")\n",
    "    case _:\n",
    "        print(\"Geçersiz İslem\")"
   ]
  },
  {
   "cell_type": "code",
   "execution_count": 28,
   "id": "d152bd51-b149-408a-8346-28432db589aa",
   "metadata": {},
   "outputs": [
    {
     "name": "stdout",
     "output_type": "stream",
     "text": [
      "Bir sayı girin:  5\n"
     ]
    },
    {
     "name": "stdout",
     "output_type": "stream",
     "text": [
      "Sonuc:  10\n"
     ]
    }
   ],
   "source": [
    "# SORU 7:1'DEN N'E KADAR TOPLAM(Kullanıcıdan bir N sayısı alın ve 1’den N’e kadar toplamı yazdırın.)\n",
    "\n",
    "N = int(input(\"Bir sayı girin: \"))\n",
    "toplam = 0\n",
    "\n",
    "for i in range(1,N,1):\n",
    "    toplam+=i\n",
    "\n",
    "print(\"Sonuc: \", toplam) "
   ]
  },
  {
   "cell_type": "code",
   "execution_count": 38,
   "id": "8f18d3d9-eab9-4722-a9bd-3c05545bed76",
   "metadata": {},
   "outputs": [
    {
     "name": "stdout",
     "output_type": "stream",
     "text": [
      "Bir tam sayı girin :  5\n"
     ]
    },
    {
     "name": "stdout",
     "output_type": "stream",
     "text": [
      "5\n",
      "10\n",
      "15\n",
      "20\n",
      "25\n",
      "30\n",
      "35\n",
      "40\n",
      "45\n",
      "50\n"
     ]
    }
   ],
   "source": [
    "# SORU 8:ÇARPIM TABLOSU(Kullanıcıdan bir sayı alın ve 1-10 arası çarpım tablosunu yazdırın.)\n",
    "\n",
    "sayi = int(input(\"Bir tam sayı girin : \"))\n",
    "\n",
    "for i in range(1,11):\n",
    "    print (sayi*i)"
   ]
  },
  {
   "cell_type": "code",
   "execution_count": 46,
   "id": "3e98ec87-6c1d-4d29-a8a9-3697a65d620d",
   "metadata": {},
   "outputs": [
    {
     "name": "stdout",
     "output_type": "stream",
     "text": [
      "1.sayıyı giriniz:  15\n",
      "2.sayıyı giriniz:  5\n",
      "3.sayıyı giriniz:  5\n",
      "4.sayıyı giriniz:  5\n",
      "5.sayıyı giriniz:  5\n"
     ]
    },
    {
     "name": "stdout",
     "output_type": "stream",
     "text": [
      "Girdiğiniz sayıların ortalaması:  7.0\n"
     ]
    }
   ],
   "source": [
    "# SORU 9:SAYILARIN ORTALAMASI:(Kullanıcıdan 5 tam sayı alın ve ortalamayı yazdırın.)\n",
    "\n",
    "toplam = 0;\n",
    "\n",
    "for i in range(1,6):\n",
    "    sayi = int(input(f\"{i}.sayıyı giriniz: \"))\n",
    "    toplam += sayi\n",
    "\n",
    "ortalama = toplam / 5\n",
    "\n",
    "print(\"Girdiğiniz sayıların ortalaması: \", ortalama)"
   ]
  },
  {
   "cell_type": "code",
   "execution_count": 52,
   "id": "c53475aa-2f7c-49be-8622-12a15b0dcf62",
   "metadata": {},
   "outputs": [
    {
     "name": "stdout",
     "output_type": "stream",
     "text": [
      "Bir sayı girin:  9\n"
     ]
    },
    {
     "name": "stdout",
     "output_type": "stream",
     "text": [
      "9 asal sayı değildir.\n"
     ]
    }
   ],
   "source": [
    "# SORU 10:ASAL SAYI KONTROLÜ(Kullanıcıdan bir sayı alın ve asal olup olmadığını yazdırın.)\n",
    "\n",
    "sayi = int(input(\"Bir sayı girin: \"))\n",
    "\n",
    "if sayi <= 1:\n",
    "    print(f\"{sayi} asal sayı değildir.\")\n",
    "else:\n",
    "    asal = True\n",
    "    for i in range(2, sayi):\n",
    "        if sayi % i == 0:\n",
    "            asal = False\n",
    "            break\n",
    "    \n",
    "    if asal:\n",
    "        print(f\"{sayi} asal sayıdır.\")\n",
    "    else:\n",
    "        print(f\"{sayi} asal sayı değildir.\")\n"
   ]
  },
  {
   "cell_type": "code",
   "execution_count": 60,
   "id": "198d312b-7a20-4f52-a9d6-436f9abb3eff",
   "metadata": {},
   "outputs": [
    {
     "name": "stdout",
     "output_type": "stream",
     "text": [
      "Bir sayı girin:  5\n"
     ]
    },
    {
     "name": "stdout",
     "output_type": "stream",
     "text": [
      "Girdiğiniz sayının faktöriyel sonucu:  120\n"
     ]
    }
   ],
   "source": [
    "# SORU 11:FAKTÖRİYEL HESAPLAMA(Kullanıcıdan bir sayı alın ve faktöriyelini yazdırın.)\n",
    "\n",
    "sayi = int(input(\"Bir sayı girin: \"))\n",
    "\n",
    "faktoriyel = 1\n",
    "\n",
    "while sayi > 1:\n",
    "    faktoriyel *= sayi\n",
    "    sayi -= 1\n",
    "\n",
    "print(\"Girdiğiniz sayının faktöriyel sonucu: \",faktoriyel)"
   ]
  },
  {
   "cell_type": "code",
   "execution_count": 66,
   "id": "79c75b20-aa2b-4c81-a20a-25d9f31b173a",
   "metadata": {},
   "outputs": [
    {
     "name": "stdout",
     "output_type": "stream",
     "text": [
      "1 ile 100 arasında bir sayı tahmin edin:  5\n"
     ]
    },
    {
     "name": "stdout",
     "output_type": "stream",
     "text": [
      "Tahmininiz çok düşük, daha büyük bir sayı girin.\n"
     ]
    },
    {
     "name": "stdout",
     "output_type": "stream",
     "text": [
      "1 ile 100 arasında bir sayı tahmin edin:  10\n"
     ]
    },
    {
     "name": "stdout",
     "output_type": "stream",
     "text": [
      "Tahmininiz çok düşük, daha büyük bir sayı girin.\n"
     ]
    },
    {
     "name": "stdout",
     "output_type": "stream",
     "text": [
      "1 ile 100 arasında bir sayı tahmin edin:  3\n"
     ]
    },
    {
     "name": "stdout",
     "output_type": "stream",
     "text": [
      "Tahmininiz çok düşük, daha büyük bir sayı girin.\n"
     ]
    },
    {
     "name": "stdout",
     "output_type": "stream",
     "text": [
      "1 ile 100 arasında bir sayı tahmin edin:  4\n"
     ]
    },
    {
     "name": "stdout",
     "output_type": "stream",
     "text": [
      "Tahmininiz çok düşük, daha büyük bir sayı girin.\n"
     ]
    },
    {
     "name": "stdout",
     "output_type": "stream",
     "text": [
      "1 ile 100 arasında bir sayı tahmin edin:  50\n"
     ]
    },
    {
     "name": "stdout",
     "output_type": "stream",
     "text": [
      "Tahmininiz çok yüksek, daha küçük bir sayı girin.\n"
     ]
    },
    {
     "name": "stdout",
     "output_type": "stream",
     "text": [
      "1 ile 100 arasında bir sayı tahmin edin:  40\n"
     ]
    },
    {
     "name": "stdout",
     "output_type": "stream",
     "text": [
      "Tahmininiz çok yüksek, daha küçük bir sayı girin.\n"
     ]
    },
    {
     "name": "stdout",
     "output_type": "stream",
     "text": [
      "1 ile 100 arasında bir sayı tahmin edin:  30\n"
     ]
    },
    {
     "name": "stdout",
     "output_type": "stream",
     "text": [
      "Tahmininiz çok yüksek, daha küçük bir sayı girin.\n"
     ]
    },
    {
     "name": "stdout",
     "output_type": "stream",
     "text": [
      "1 ile 100 arasında bir sayı tahmin edin:  20\n"
     ]
    },
    {
     "name": "stdout",
     "output_type": "stream",
     "text": [
      "Tahmininiz çok yüksek, daha küçük bir sayı girin.\n"
     ]
    },
    {
     "name": "stdout",
     "output_type": "stream",
     "text": [
      "1 ile 100 arasında bir sayı tahmin edin:  10\n"
     ]
    },
    {
     "name": "stdout",
     "output_type": "stream",
     "text": [
      "Tahmininiz çok düşük, daha büyük bir sayı girin.\n"
     ]
    },
    {
     "name": "stdout",
     "output_type": "stream",
     "text": [
      "1 ile 100 arasında bir sayı tahmin edin:  12\n"
     ]
    },
    {
     "name": "stdout",
     "output_type": "stream",
     "text": [
      "Tahmininiz çok düşük, daha büyük bir sayı girin.\n"
     ]
    },
    {
     "name": "stdout",
     "output_type": "stream",
     "text": [
      "1 ile 100 arasında bir sayı tahmin edin:  15\n"
     ]
    },
    {
     "name": "stdout",
     "output_type": "stream",
     "text": [
      "Tahmininiz çok yüksek, daha küçük bir sayı girin.\n"
     ]
    },
    {
     "name": "stdout",
     "output_type": "stream",
     "text": [
      "1 ile 100 arasında bir sayı tahmin edin:  14\n"
     ]
    },
    {
     "name": "stdout",
     "output_type": "stream",
     "text": [
      "Tebrikler! Doğru sayıyı tahmin ettiniz.\n"
     ]
    }
   ],
   "source": [
    "#### SORU 12:SAYI TAHMİN OYUNU(1-100 arası rastgele bir sayı tutun ve kullanıcıdan tahmin alın. Yönlendirin.)\n",
    "\n",
    "import random\n",
    "tutulan_sayi = random.randint(1, 100)\n",
    "tahmin = None\n",
    "\n",
    "while tahmin != tutulan_sayi:\n",
    "    tahmin = int(input(\"1 ile 100 arasında bir sayı tahmin edin: \"))\n",
    "    \n",
    "    if tahmin < tutulan_sayi:\n",
    "        print(\"Tahmininiz çok düşük, daha büyük bir sayı girin.\")\n",
    "    elif tahmin > tutulan_sayi:\n",
    "        print(\"Tahmininiz çok yüksek, daha küçük bir sayı girin.\")\n",
    "    else:\n",
    "        print(\"Tebrikler! Doğru sayıyı tahmin ettiniz.\")\n"
   ]
  },
  {
   "cell_type": "code",
   "execution_count": 70,
   "id": "ae7915b9-6244-4b26-a6e4-7355b28260f2",
   "metadata": {},
   "outputs": [
    {
     "name": "stdout",
     "output_type": "stream",
     "text": [
      "Fibonacci serisinin kaç terimini görmek istersiniz? 5\n"
     ]
    },
    {
     "name": "stdout",
     "output_type": "stream",
     "text": [
      "Fibonacci Serisi:\n",
      "0 1 1 2 3 "
     ]
    }
   ],
   "source": [
    "# SORU 13:FİBONACCİ SERİSİ(Kullanıcıdan bir N alın ve ilk N Fibonacci terimini yazdırın.)\n",
    "\n",
    "N = int(input(\"Fibonacci serisinin kaç terimini görmek istersiniz?\"))\n",
    "a, b = 0, 1\n",
    "\n",
    "print(\"Fibonacci Serisi:\")\n",
    "for i in range(0,N):\n",
    "    print(a, end=\" \")\n",
    "    a, b = b, a + b"
   ]
  },
  {
   "cell_type": "code",
   "execution_count": 76,
   "id": "ba877f4b-5b3f-4593-a348-1e2605daaa91",
   "metadata": {},
   "outputs": [
    {
     "name": "stdout",
     "output_type": "stream",
     "text": [
      "Bir sayı girin:  12\n"
     ]
    },
    {
     "name": "stdout",
     "output_type": "stream",
     "text": [
      "Girdiğiniz sayının tersi:  21\n"
     ]
    }
   ],
   "source": [
    "# SORU 14:TERSİNE ÇEVİRME(Kullanıcıdan bir sayı alın ve tersini yazdırın (örn. 1234 -> 4321).)\n",
    "\n",
    "sayi = int(input(\"Bir sayı girin: \"))\n",
    "ters_sayi = 0\n",
    "\n",
    "while sayi > 0:\n",
    "    basamak = sayi % 10\n",
    "    ters_sayi = (ters_sayi * 10) + basamak\n",
    "    sayi = sayi // 10\n",
    "\n",
    "print(\"Girdiğiniz sayının tersi: \",ters_sayi)"
   ]
  },
  {
   "cell_type": "code",
   "execution_count": 82,
   "id": "6eb56c28-a0b9-4a53-9bea-21f3fcffa9f0",
   "metadata": {},
   "outputs": [
    {
     "name": "stdout",
     "output_type": "stream",
     "text": [
      "Bir sayı girin:  153\n"
     ]
    },
    {
     "name": "stdout",
     "output_type": "stream",
     "text": [
      "153 bir Armstrong sayısıdır.\n"
     ]
    }
   ],
   "source": [
    "# SORU 15:ARMSTRONG SAYISI(Kullanıcıdan bir sayı alın ve Armstrong sayısı olup olmadığını kontrol edin.)\n",
    "\n",
    "# ÖR:1^3+5^3+3^3 = 153\n",
    "sayi = int(input(\"Bir sayı girin: \"))\n",
    "temp_sayi = sayi\n",
    "basamak_sayisi=0\n",
    "\n",
    "while temp_sayi > 0:\n",
    "    temp_sayi //= 10\n",
    "    basamak_sayisi += 1\n",
    "\n",
    "toplam = 0\n",
    "temp_sayi = sayi\n",
    "\n",
    "while temp_sayi > 0:\n",
    "    basamak = temp_sayi % 10\n",
    "    toplam += basamak ** basamak_sayisi\n",
    "    temp_sayi //= 10\n",
    "\n",
    "if toplam == sayi:\n",
    "    print(f\"{sayi} bir Armstrong sayısıdır.\")\n",
    "else:\n",
    "    print(f\"{sayi} bir Armstrong sayısı değildir.\")"
   ]
  },
  {
   "cell_type": "code",
   "execution_count": 88,
   "id": "40870318-98dc-4471-99ff-d9b8d12cdf06",
   "metadata": {},
   "outputs": [
    {
     "name": "stdout",
     "output_type": "stream",
     "text": [
      "1 ile 100 arasındaki çift sayıların toplamı:  2550\n"
     ]
    }
   ],
   "source": [
    "# SORU 16:ÇİFT SAYILARIN TOPLAMI(1-100 arası çift sayıların toplamını yazdırın.)\n",
    "\n",
    "toplam = 0\n",
    "\n",
    "for sayi in range(1,101):\n",
    "    if sayi % 2 == 0:\n",
    "        toplam += sayi\n",
    "\n",
    "print (f\"1 ile 100 arasındaki çift sayıların toplamı: \", toplam)"
   ]
  },
  {
   "cell_type": "code",
   "execution_count": 90,
   "id": "541b3dde-0022-49cc-a438-3bd0ce6461b9",
   "metadata": {},
   "outputs": [
    {
     "name": "stdout",
     "output_type": "stream",
     "text": [
      "1 ile 10 arasındaki tek sayıların çarpımı:  945\n"
     ]
    }
   ],
   "source": [
    "# SORU 17:TEK SAYILARIN ÇARPIMI(1-10 arası tek sayıların öylenı yazdırın.)\n",
    "\n",
    "carpim = 1\n",
    "\n",
    "for sayi in range(1,11):\n",
    "    if sayi % 2 != 0:\n",
    "        carpim *= sayi\n",
    "\n",
    "print(\"1 ile 10 arasındaki tek sayıların çarpımı: \",carpim)"
   ]
  },
  {
   "cell_type": "code",
   "execution_count": 94,
   "id": "bd523861-e981-46c0-8def-c42df8b7f0d6",
   "metadata": {},
   "outputs": [
    {
     "name": "stdout",
     "output_type": "stream",
     "text": [
      "1 sayısının karesi: 1\n",
      "2 sayısının karesi: 4\n",
      "3 sayısının karesi: 9\n",
      "4 sayısının karesi: 16\n",
      "5 sayısının karesi: 25\n",
      "6 sayısının karesi: 36\n",
      "7 sayısının karesi: 49\n",
      "8 sayısının karesi: 64\n",
      "9 sayısının karesi: 81\n",
      "10 sayısının karesi: 100\n"
     ]
    }
   ],
   "source": [
    "# SORU 18:SAYILARIN KARESİ(1-10 arası sayıların karelerini yazdırın.)\n",
    "\n",
    "for sayi in range(1,11):\n",
    "    kare = sayi ** 2\n",
    "    print(f\"{sayi} sayısının karesi: {kare}\")"
   ]
  },
  {
   "cell_type": "code",
   "execution_count": 98,
   "id": "e7f08e67-34bd-4789-bd3d-703adf2da2a7",
   "metadata": {},
   "outputs": [
    {
     "name": "stdout",
     "output_type": "stream",
     "text": [
      "Şifrenizi girin:  python123\n"
     ]
    },
    {
     "name": "stdout",
     "output_type": "stream",
     "text": [
      "Giriş Başarılı\n"
     ]
    }
   ],
   "source": [
    "sifre = input(\"Şifrenizi girin: \")\n",
    "\n",
    "if sifre == \"python123\":\n",
    "    print(\"Giriş Başarılı\")\n",
    "else:\n",
    "    print(\"Şifre yanlış, giriş yapılamadı.\")"
   ]
  },
  {
   "cell_type": "code",
   "execution_count": 100,
   "id": "e927a344-bc22-438c-8ac8-af668d4dbe62",
   "metadata": {},
   "outputs": [
    {
     "name": "stdout",
     "output_type": "stream",
     "text": [
      "Yaşınızı girin:  20\n"
     ]
    },
    {
     "name": "stdout",
     "output_type": "stream",
     "text": [
      "Reşit\n"
     ]
    }
   ],
   "source": [
    "# SORU 20:YAŞ KONTROLÜ(Kullanıcıdan yaş alın. 18’den büyükse “Reşit” yazdırın.)\n",
    "\n",
    "yas = int(input(\"Yaşınızı girin: \"))\n",
    "\n",
    "if yas > 18:\n",
    "    print(\"Reşit\")\n",
    "else:\n",
    "    print(\"Reşit değil\")"
   ]
  },
  {
   "cell_type": "code",
   "execution_count": 102,
   "id": "d3915565-1933-4f57-bd4c-8bef9ab3919b",
   "metadata": {},
   "outputs": [
    {
     "name": "stdout",
     "output_type": "stream",
     "text": [
      "1. ders notunu girin:  80\n",
      "2. ders notunu girin:  50\n",
      "3. ders notunu girin:  60\n"
     ]
    },
    {
     "name": "stdout",
     "output_type": "stream",
     "text": [
      "Geçti\n"
     ]
    }
   ],
   "source": [
    "# SORU 21:NOT ORTALAMASI(Kullanıcıdan 3 ders notu alın ve ortalama 50’den büyükse “Geçti” yazdırın.)\n",
    "\n",
    "not1 = float(input(\"1. ders notunu girin: \"))\n",
    "not2 = float(input(\"2. ders notunu girin: \"))\n",
    "not3 = float(input(\"3. ders notunu girin: \"))\n",
    "\n",
    "ortalama = (not1 + not2 + not3) / 3\n",
    "\n",
    "if ortalama > 50:\n",
    "    print(\"Geçti\")\n",
    "else:\n",
    "    print(\"Kaldı\")"
   ]
  },
  {
   "cell_type": "code",
   "execution_count": 106,
   "id": "31acf71b-e037-4f4c-8a01-b23675a3b019",
   "metadata": {},
   "outputs": [
    {
     "name": "stdout",
     "output_type": "stream",
     "text": [
      "Boyunuzu (metre cinsinden) girin:  187\n",
      "Kilonuzu (kg cinsinden) girin:  74\n"
     ]
    },
    {
     "name": "stdout",
     "output_type": "stream",
     "text": [
      "Kilolu Değilsiniz\n"
     ]
    }
   ],
   "source": [
    "# SORU 22:VÜCUT KÜTLE İNDEKSİ(Kullanıcıdan boy ve kilo alın. VKİ 25’ten büyükse “Fazla kilolu” yazdırın.)\n",
    "\n",
    "boy = float(input(\"Boyunuzu (metre cinsinden) girin: \"))\n",
    "kilo = float(input(\"Kilonuzu (kg cinsinden) girin: \"))\n",
    "\n",
    "vki = kilo / (boy ** 2)\n",
    "\n",
    "if vki > 25:\n",
    "    print(\"Fazla Kilolu\")\n",
    "else:\n",
    "    print(\"Kilolu Değilsiniz\")"
   ]
  },
  {
   "cell_type": "code",
   "execution_count": 112,
   "id": "10b3220a-a5bf-4dbe-87ca-87c35f842777",
   "metadata": {},
   "outputs": [
    {
     "name": "stdout",
     "output_type": "stream",
     "text": [
      "Dört İşlem Menüsü: \n",
      "1. Toplama\n",
      "2. Çıkarma\n",
      "3. Çarpma\n",
      "4. Bölme\n"
     ]
    },
    {
     "name": "stdout",
     "output_type": "stream",
     "text": [
      "Yapmak istediğiniz işlemi seçiniz (1/2/3/4):  1\n",
      "Birinci sayıyı girin:  15\n",
      "İkinci sayıyı girin:  25\n"
     ]
    },
    {
     "name": "stdout",
     "output_type": "stream",
     "text": [
      "15.0 + 25.0 = 40.0\n"
     ]
    }
   ],
   "source": [
    "# SORU 23:DÖRT İŞLEM MENÜSÜ(Kullanıcıya dört işlem menüsü sunun ve sonucu yazdırın.)\n",
    "\n",
    "print(\"Dört İşlem Menüsü: \")\n",
    "print(\"1. Toplama\")\n",
    "print(\"2. Çıkarma\")\n",
    "print(\"3. Çarpma\")\n",
    "print(\"4. Bölme\")\n",
    "\n",
    "secim = int(input(\"Yapmak istediğiniz işlemi seçiniz (1/2/3/4): \"))\n",
    "\n",
    "sayi1 = float(input(\"Birinci sayıyı girin: \"))\n",
    "sayi2 = float(input(\"İkinci sayıyı girin: \"))\n",
    "\n",
    "match secim:\n",
    "    case 1:\n",
    "        print(f\"{sayi1} + {sayi2} = {sayi1 + sayi2}\")\n",
    "    case 2:\n",
    "        print(f\"{sayi1} - {sayi2} = {sayi1 - sayi2}\")\n",
    "    case 3:\n",
    "        print(f\"{sayi1} * {sayi2} = {sayi1 * sayi2}\")\n",
    "    case 4:\n",
    "        if sayi2 != 0:\n",
    "            print(f\"{sayi1} / {sayi2} = {sayi1 / sayi2}\")\n",
    "        else:\n",
    "            print(\"Hata: Bir sayıyı sıfıra bölemezsiniz.\")\n",
    "    case _:\n",
    "        print(\"Geçersiz işlem seçimi.\")"
   ]
  },
  {
   "cell_type": "code",
   "execution_count": 120,
   "id": "0aaf45ac-c146-474c-8609-41b29e40024f",
   "metadata": {},
   "outputs": [
    {
     "name": "stdout",
     "output_type": "stream",
     "text": [
      "Birinci sayıyı girin:  10\n",
      "İkinci sayıyı girin:  15\n",
      "Üçüncü sayıyı girin:  50\n",
      "Dördüncü sayıyı girin:  5\n"
     ]
    },
    {
     "name": "stdout",
     "output_type": "stream",
     "text": [
      "En küçük sayı:  5\n"
     ]
    }
   ],
   "source": [
    "# SORU 24:SAYILARIN EN KÜÇÜĞÜ(Kullanıcıdan dört tam sayı alın ve en küçüğünü yazdırın.)\n",
    "\n",
    "sayi1 = int(input(\"Birinci sayıyı girin: \"))\n",
    "sayi2 = int(input(\"İkinci sayıyı girin: \"))\n",
    "sayi3 = int(input(\"Üçüncü sayıyı girin: \"))\n",
    "sayi4 = int(input(\"Dördüncü sayıyı girin: \"))\n",
    "\n",
    "enKucuk = sayi1\n",
    "\n",
    "if sayi2 < enKucuk:\n",
    "    enKucuk = sayi2\n",
    "if sayi3 < enKucuk:\n",
    "    enKucuk = sayi3\n",
    "if sayi4 < enKucuk:\n",
    "    enKucuk = sayi4\n",
    "\n",
    "print(\"En küçük sayı: \",enKucuk)"
   ]
  },
  {
   "cell_type": "code",
   "execution_count": 122,
   "id": "6c3c8023-47ee-45e5-9dcc-101f138e34eb",
   "metadata": {},
   "outputs": [
    {
     "name": "stdout",
     "output_type": "stream",
     "text": [
      "Birinci tam sayıyı girin:  01\n",
      "İkinci tam sayıyı girin:  5\n",
      "Üçüncü tam sayıyı girin:  6\n"
     ]
    },
    {
     "name": "stdout",
     "output_type": "stream",
     "text": [
      "Sıralama:  1 5 6\n"
     ]
    }
   ],
   "source": [
    "# SORU 25:ARTAN SIRALAMA( Kullanıcıdan üç tam sayı alın ve küçükten büyüğe sıralayın.)\n",
    "\n",
    "sayi1 = int(input(\"Birinci tam sayıyı girin: \"))\n",
    "sayi2 = int(input(\"İkinci tam sayıyı girin: \"))\n",
    "sayi3 = int(input(\"Üçüncü tam sayıyı girin: \"))\n",
    "\n",
    "if sayi1 <= sayi2 and sayi1 <= sayi3:\n",
    "    if sayi2 <= sayi3:\n",
    "        print(\"Sıralama: \",sayi1,sayi2,sayi3)\n",
    "    else:\n",
    "        print(\"Sıralama: \",sayi1,sayi3,sayi2)\n",
    "elif sayi2 <= sayi1 and sayi2<= sayi3:\n",
    "    if sayi1 <= sayi3:\n",
    "        print(\"Sıralama: \",sayi2,sayi1,sayi3)\n",
    "    else:\n",
    "        print(\"Sıralama: \",sayi2,sayi3,sayi1)\n",
    "else:\n",
    "    if sayi1 <= sayi2:\n",
    "        print(\"Sıralama: \",sayi3,sayi1,sayi2)\n",
    "    else:\n",
    "        print(\"Sıralama: \",sayi3,sayi2,sayi1)"
   ]
  },
  {
   "cell_type": "code",
   "execution_count": 1,
   "id": "d3650b12-3e80-4288-b04d-a119268f5f8c",
   "metadata": {},
   "outputs": [
    {
     "name": "stdout",
     "output_type": "stream",
     "text": [
      "Bir sayı girin:  5\n"
     ]
    },
    {
     "name": "stdout",
     "output_type": "stream",
     "text": [
      "1'den 5'ye kadar ılan sayıların toplamı: 15\n"
     ]
    }
   ],
   "source": [
    "# SORU 26:SAYILARIN TOPLAMI(WHİLE İLE)(Kullanıcıdan bir N alın ve 1-N arası toplamı while ile yazdırın.)\n",
    "\n",
    "N = int(input(\"Bir sayı girin: \"))\n",
    "toplam = 0\n",
    "i=1\n",
    "\n",
    "while i<=N:\n",
    "    toplam += i\n",
    "    i += 1\n",
    "\n",
    "print(f\"1'den {N}'ye kadar ılan sayıların toplamı: {toplam}\")"
   ]
  },
  {
   "cell_type": "code",
   "execution_count": 3,
   "id": "268d90de-cd96-43b7-9081-d873800aff65",
   "metadata": {},
   "outputs": [
    {
     "name": "stdout",
     "output_type": "stream",
     "text": [
      "1'den 5'e kadar olan sayıların çarpımı =  120\n"
     ]
    }
   ],
   "source": [
    "# SORU 27:SAYILARIN ÇARPIMI(1-5 arası sayıların çarpımını yazdırın.)\n",
    "\n",
    "carpim=1\n",
    "\n",
    "for i in range (1,6,1):\n",
    "    carpim *= i\n",
    "\n",
    "print(\"1'den 5'e kadar olan sayıların çarpımı = \", carpim)"
   ]
  },
  {
   "cell_type": "code",
   "execution_count": 5,
   "id": "725e21a3-7b98-422e-9494-cf45f129771e",
   "metadata": {},
   "outputs": [
    {
     "name": "stdout",
     "output_type": "stream",
     "text": [
      "1-10 arası sayıların karelerinin toplamı=  386\n"
     ]
    }
   ],
   "source": [
    "# SORU 28:SAYILARIN KARSEİNİ TOPLAMA(1-10 arası sayıların karelerinin toplamını yazdırın.)\n",
    "\n",
    "toplam=1\n",
    "\n",
    "for i in range (1,11):\n",
    "    toplam += i**2\n",
    "\n",
    "print(\"1-10 arası sayıların karelerinin toplamı= \",toplam)"
   ]
  },
  {
   "cell_type": "code",
   "execution_count": 7,
   "id": "d60374f9-1183-44fd-abb8-1f067bcddda6",
   "metadata": {},
   "outputs": [
    {
     "name": "stdout",
     "output_type": "stream",
     "text": [
      "Bir sayı girin:  5\n"
     ]
    },
    {
     "name": "stdout",
     "output_type": "stream",
     "text": [
      "Kullanıcıdan bir N alın ve 1-N arası küplerin toplamı = 225\n"
     ]
    }
   ],
   "source": [
    "# SORU 29:SAYILARIN KÜPÜNÜ TOPLAMA(Kullanıcıdan bir N alın ve 1-N arası küplerin toplamını yazdırın.)\n",
    "\n",
    "N = int(input(\"Bir sayı girin: \"))\n",
    "toplam = 0\n",
    "\n",
    "for i in range (1,N+1):\n",
    "    toplam += i**3\n",
    "print(\"Kullanıcıdan bir N alın ve 1-N arası küplerin toplamı =\", toplam)"
   ]
  },
  {
   "cell_type": "code",
   "execution_count": 15,
   "id": "0859a266-c94a-43b9-a349-98bdf48e5834",
   "metadata": {},
   "outputs": [
    {
     "name": "stdout",
     "output_type": "stream",
     "text": [
      "1-100 arası hem 3’e hem 5’e bölünen sayıların sayısı:  6\n"
     ]
    }
   ],
   "source": [
    "# SORU 30:BASİT SAYI SAYICI(1-100 arası hem 3’e hem 5’e bölünen sayıları sayın ve yazdırın.)\n",
    "\n",
    "sayac = 0\n",
    "\n",
    "for i in range(1,101):\n",
    "    if i % 3 == 0 and i % 5 == 0:\n",
    "        sayac += 1\n",
    "\n",
    "print(\"1-100 arası hem 3’e hem 5’e bölünen sayıların sayısı: \", sayac)"
   ]
  },
  {
   "cell_type": "code",
   "execution_count": 17,
   "id": "01c91adc-abc7-40d8-874f-805fae1a2ea2",
   "metadata": {},
   "outputs": [
    {
     "name": "stdout",
     "output_type": "stream",
     "text": [
      "Sınav notunu girin (0-100):  85\n"
     ]
    },
    {
     "name": "stdout",
     "output_type": "stream",
     "text": [
      "Harf notu: B\n"
     ]
    }
   ],
   "source": [
    "# SORU 31:NOT HARFİNİ BELİRLEME(Kullanıcıdan bir sınav notu (0-100 arasında) alın. Notu aşağıdaki kriterlere göre harf notuna çevirin:\n",
    "#○ 90-100: A\n",
    "#○ 80-89: B\n",
    "#○ 70-79: C\n",
    "#○ 60-69: D\n",
    "#○ 0-59: F\n",
    "\n",
    "notu = int(input(\"Sınav notunu girin (0-100): \"))\n",
    "\n",
    "if 90 <= notu <= 100:\n",
    "    print(\"Harf notu: A\")\n",
    "elif 80 <= notu < 90:\n",
    "    print(\"Harf notu: B\")\n",
    "elif 70 <= notu < 80:\n",
    "    print(\"Harf notu: C\")\n",
    "elif 60 <= notu < 70:\n",
    "    print(\"Harf notu: D\")\n",
    "else:\n",
    "    print(\"Harf notu: F\")"
   ]
  },
  {
   "cell_type": "code",
   "execution_count": 19,
   "id": "347e7afe-bc60-4bb6-a36e-43c322bad0f6",
   "metadata": {},
   "outputs": [
    {
     "name": "stdout",
     "output_type": "stream",
     "text": [
      "Birinci tam sayıyı girin:  15\n",
      "İkinci tam sayıyı girin:  54\n",
      "Üçüncü tam sayıyı girin:  54\n"
     ]
    },
    {
     "name": "stdout",
     "output_type": "stream",
     "text": [
      "İki sayı eşit\n"
     ]
    }
   ],
   "source": [
    "# SORU 32:ÜÇ SAYININ KARŞILAŞTIRILMASI(Kullanıcıdan üç tam sayı alın. Sayılar eşitse “Tüm sayılar eşit”,\n",
    "#en az iki tanesi eşitse “İki sayı eşit”,hiçbiri eşit değilse “Hiçbiri eşit değil” yazdırın.)\n",
    "\n",
    "sayi1 = int(input(\"Birinci tam sayıyı girin: \"))\n",
    "sayi2 = int(input(\"İkinci tam sayıyı girin: \"))\n",
    "sayi3 = int(input(\"Üçüncü tam sayıyı girin: \"))\n",
    "\n",
    "if sayi1 == sayi2 == sayi3:\n",
    "    print(\"Tüm saayılar eşit\")\n",
    "elif sayi1 == sayi2 or sayi1 == sayi3 or sayi2 == sayi3:\n",
    "    print(\"İki sayı eşit\")\n",
    "else:\n",
    "    print(\"Hiçbiri eşit değil\")"
   ]
  },
  {
   "cell_type": "code",
   "execution_count": 21,
   "id": "944ac60a-5f21-412d-8fb7-6d97f123a6e0",
   "metadata": {},
   "outputs": [
    {
     "name": "stdout",
     "output_type": "stream",
     "text": [
      "Bir yıl girin:  2020\n"
     ]
    },
    {
     "name": "stdout",
     "output_type": "stream",
     "text": [
      "2020 bir artık yıldır.\n"
     ]
    }
   ],
   "source": [
    "# SORU 33:ARTIK YIL KONTROLÜ(Kullanıcıdan bir yıl alın. Yılın artık yıl olup olmadığını kontrol edin. \n",
    "#(Artık yıl: 4’e tam bölünen, ancak 100’e tam bölünmeyen yıllar;400’e tam bölünen yıllar da artık yıldır.)\n",
    "\n",
    "yil = int(input(\"Bir yıl girin: \"))\n",
    "\n",
    "if(yil%4==0 and yil % 100 != 0) or (yil % 400 == 0):\n",
    "    print(f\"{yil} bir artık yıldır.\")\n",
    "else:\n",
    "    print(f\"{yil} bir artık yıl değildir.\")"
   ]
  },
  {
   "cell_type": "code",
   "execution_count": 25,
   "id": "7454c1e3-db7e-47b7-9724-9847bfc5fd0f",
   "metadata": {},
   "outputs": [
    {
     "name": "stdout",
     "output_type": "stream",
     "text": [
      "Boyunuzu girin (metre cinsinden):  187\n",
      "Kilonuzu girin (kg cinsinden):  74\n"
     ]
    },
    {
     "name": "stdout",
     "output_type": "stream",
     "text": [
      "Zayıf\n"
     ]
    }
   ],
   "source": [
    "# SORU 34:BMI KATEGORİSİ(Kullanıcıdan boy (metre) ve kilo (kg) alın. Vücut Kitle İndeksi’ni (BMI = kilo / boy²) hesaplayın ve \n",
    "#aşağıdaki kategorilere göre sınıflandırın:\n",
    "#○ BMI < 18.5: Zayıf\n",
    "#○ 18.5 ≤ BMI < 25: Normal\n",
    "#○ 25 ≤ BMI < 30: Fazla Kilolu\n",
    "#○ BMI ≥ 30: Obez\n",
    "\n",
    "boy = float(input(\"Boyunuzu girin (metre cinsinden): \"))\n",
    "kilo = float(input(\"Kilonuzu girin (kg cinsinden): \"))\n",
    "\n",
    "bmi = kilo / (boy ** 2)\n",
    "\n",
    "if bmi < 18.5:\n",
    "    print(\"Zayıf\")\n",
    "elif 18.5 <= bmi <= 25:\n",
    "    print(\"Normal\")\n",
    "elif 25 <= bmi < 30:\n",
    "    print(\"Fazla Kilolu\")\n",
    "else:\n",
    "    print(\"Obez\")"
   ]
  },
  {
   "cell_type": "code",
   "execution_count": 29,
   "id": "df5f8421-f2cf-4e8f-86ad-89e923a74bbe",
   "metadata": {},
   "outputs": [
    {
     "name": "stdout",
     "output_type": "stream",
     "text": [
      "Birinci kenar uzunluğunu girin:  5\n",
      "İkinci kenar uzunluğunu girin:  6\n",
      "Üçüncü kenar uzunluğunu girin:  7\n"
     ]
    },
    {
     "name": "stdout",
     "output_type": "stream",
     "text": [
      "Çeşitkenar üçgen\n"
     ]
    }
   ],
   "source": [
    "# SORU 35:ÜÇGEN TÜRÜ BELİRLEME(Kullanıcıdan üç kenar uzunluğu alın. Bu kenarlarla bir üçgen oluşturulabiliyorsa,\n",
    "#üçgenin türünü (eşkenar, ikizkenar, çeşitkenar) belirleyin. Üçgen oluşturulamıyorsa “Üçgen değil” yazdırın.\n",
    "#○ (Üçgen kuralı: Her kenar, diğer iki kenarın toplamından küçük olmalı.)\n",
    "\n",
    "kenar1 = int(input(\"Birinci kenar uzunluğunu girin: \"))\n",
    "kenar2 = int(input(\"İkinci kenar uzunluğunu girin: \"))\n",
    "kenar3 = int(input(\"Üçüncü kenar uzunluğunu girin: \"))\n",
    "\n",
    "if kenar1 + kenar2 > kenar3 and kenar1 + kenar3 > kenar2 and kenar2 + kenar3 > kenar1:\n",
    "    if kenar1 == kenar2 == kenar3:\n",
    "        print(\"Eşkenar üçgen\")\n",
    "    elif kenar1 == kenar2 or kenar1 == kenar3 or kenar2 == kenar3:\n",
    "        print(\"İkizkenar üçgen\")\n",
    "    else:\n",
    "        print(\"Çeşitkenar üçgen\")\n",
    "else:\n",
    "    print(\"Üçgen değil\")\n"
   ]
  },
  {
   "cell_type": "code",
   "execution_count": 33,
   "id": "b363e7b0-71f9-4280-8909-d2ff96a92024",
   "metadata": {},
   "outputs": [
    {
     "name": "stdout",
     "output_type": "stream",
     "text": [
      "Yaşınızı girin:  65\n"
     ]
    },
    {
     "name": "stdout",
     "output_type": "stream",
     "text": [
      "Bilet ücreti: 15 TL\n"
     ]
    }
   ],
   "source": [
    "# SORU 36:YAŞ VE BİLET FİYATI(Kullanıcıdan yaşını alın. Yaşına göre sinema bilet fiyatını belirleyin:\n",
    "#○ 0-5 yaş: Ücretsiz\n",
    "#○ 6-18 yaş: 10 TL\n",
    "#○ 19-64 yaş: 20 TL\n",
    "#○ 65 ve üzeri: 15 TL\n",
    "\n",
    "yas = int(input(\"Yaşınızı girin: \"))\n",
    "\n",
    "if yas <= 5:\n",
    "    print(\"Bilet ücreti: Ücretsiz\")\n",
    "elif 6 <= yas <= 18:\n",
    "    print(\"Bilet ücreti: 10 TL\")\n",
    "elif 19 <= yas <= 64:\n",
    "    print(\"Bilet ücreti: 20 TL\")\n",
    "else:\n",
    "    print(\"Bilet ücreti: 15 TL\")"
   ]
  },
  {
   "cell_type": "code",
   "execution_count": 49,
   "id": "8e4f23a3-6142-4fd8-952e-6dff0062040c",
   "metadata": {},
   "outputs": [
    {
     "name": "stdout",
     "output_type": "stream",
     "text": [
      "Hava durumu (Güneşli, Yağmurlu, Karlı):  güneşli\n",
      "Sıcaklık (°C cinsinden):  25\n"
     ]
    },
    {
     "name": "stdout",
     "output_type": "stream",
     "text": [
      "Piknik yapabilirsiniz.\n"
     ]
    }
   ],
   "source": [
    "# SORU 37:HAVA DURUMU ÖNERİSİ(Kullanıcıdan hava durumunu (güneşli, yağmurlu, karlı) ve sıcaklığı (°C) alın. \n",
    "#Aşağıdaki kriterlere göre öneride bulunun:\n",
    "#○ Güneşli ve sıcaklık ≥ 25: “Piknik yapabilirsiniz.”\n",
    "#○ Yağmurlu: “Şemsiye almayı unutmayın.”\n",
    "#○ Karlı ve sıcaklık < 0: “Kayak yapmaya gidebilirsiniz.”\n",
    "#○ Diğer durumlar: “Evde kalabilirsiniz.”\n",
    "\n",
    "hava_durumu = input(\"Hava durumu (Güneşli, Yağmurlu, Karlı): \")\n",
    "\n",
    "if hava_durumu == \"güneşli\" or hava_durumu == \"Güneşli\":\n",
    "    sicaklik = int(input(\"Sıcaklık (°C cinsinden): \"))\n",
    "    if sicaklik >= 25:\n",
    "        print(\"Piknik yapabilirsiniz.\")\n",
    "elif hava_durumu == \"yağmurlu\" or hava_durumu == \"Yağmurlu\":\n",
    "    print(\"Şemsiye almayı unutmayın.\")\n",
    "elif hava_durumu == \"karlı\" or hava_durumu == \"Karlı\":\n",
    "    sicaklik = int(input(\"Sıcaklık (°C cinsinden): \"))\n",
    "    if sicaklik < 0:\n",
    "        print(\"Kayak yapmaya gidebilirsiniz.\")\n",
    "else:\n",
    "    print(\"Evde kalabilirsiniz.\")\n"
   ]
  },
  {
   "cell_type": "code",
   "execution_count": 57,
   "id": "e6ca6150-4e29-46dd-818d-e6b8d8203d21",
   "metadata": {},
   "outputs": [
    {
     "name": "stdout",
     "output_type": "stream",
     "text": [
      "Bir tam sayı girin:  5\n"
     ]
    },
    {
     "name": "stdout",
     "output_type": "stream",
     "text": [
      "Pozitif\n"
     ]
    }
   ],
   "source": [
    "# SORU 38:SAYININ POZİTİF,NEGATİF VEYA SIFIR OLUP OLMADIĞINI KONTROL ETME(Kullanıcıdan bir tam sayı alın. \n",
    "# Sayı pozitifse “Pozitif”,negatifse “Negatif”, sıfırsa “Sıfır” yazdırın.)\n",
    "\n",
    "sayi = int(input(\"Bir tam sayı girin: \")) \n",
    "\n",
    "if sayi > 0:\n",
    "    print(\"Pozitif\")\n",
    "elif sayi1 < 0:\n",
    "    print(\"Negatif\")\n",
    "else:\n",
    "    print(\"Sıfır\")"
   ]
  },
  {
   "cell_type": "code",
   "execution_count": 59,
   "id": "1f69efb2-fd58-4b73-9005-ba8347158865",
   "metadata": {},
   "outputs": [
    {
     "name": "stdout",
     "output_type": "stream",
     "text": [
      "Birinci tam sayıyı girin:  15\n",
      "İkinci tam sayıyı girin:  15\n"
     ]
    },
    {
     "name": "stdout",
     "output_type": "stream",
     "text": [
      "Sayılar eşit\n"
     ]
    }
   ],
   "source": [
    "# SORU 39:İKİ SAYININ KARŞIALŞTIRILMASI(Kullanıcıdan iki tam sayı alın. İlk sayı büyükse “Birinci sayı büyük”,\n",
    "# ikinci sayı büyükse “İkinci sayı büyük”, eşitse “Sayılar eşit” yazdırın.)\n",
    "\n",
    "sayi1 = int(input(\"Birinci tam sayıyı girin: \"))\n",
    "sayi2 = int(input(\"İkinci tam sayıyı girin: \"))\n",
    "\n",
    "if sayi1 > sayi2:\n",
    "    print(\"Birinci sayı büyük\")\n",
    "elif sayi1 < sayi2:\n",
    "    print(\"İkinci sayı büyük\")\n",
    "else:\n",
    "    print(\"Sayılar eşit\")"
   ]
  },
  {
   "cell_type": "code",
   "execution_count": 3,
   "id": "72ffa686-5832-45de-9936-be794ca71e11",
   "metadata": {},
   "outputs": [
    {
     "name": "stdout",
     "output_type": "stream",
     "text": [
      "Alışveriş tutarını girin:  1000\n",
      "Üyelik durumu (üye/non-üye):  Üye\n"
     ]
    },
    {
     "name": "stdout",
     "output_type": "stream",
     "text": [
      "İndirimli tutar: 950.0 TL\n"
     ]
    }
   ],
   "source": [
    "# SORU 40:ÜYELİK DURUMU VE İNDİRİM( Kullanıcıdan bir alışveriş tutarı ve üyelik durumunu (üye/non-üye) alın. \n",
    "# Üye ise %10 indirim, non-üye ise %5 indirim uygulayın ve indirimli tutarı yazdırın)\n",
    "\n",
    "alisveris_tutari = float(input(\"Alışveriş tutarını girin: \"))\n",
    "uyelik_durumu = input(\"Üyelik durumu (üye/non-üye): \")\n",
    "\n",
    "if uyelik_durumu == \"üye\":\n",
    "    indirimli_tutar = alisveris_tutari * 0.90\n",
    "else:\n",
    "    indirimli_tutar = alisveris_tutari * 0.95\n",
    "\n",
    "print(f\"İndirimli tutar: {indirimli_tutar} TL\")\n"
   ]
  }
 ],
 "metadata": {
  "kernelspec": {
   "display_name": "Python [conda env:base] *",
   "language": "python",
   "name": "conda-base-py"
  },
  "language_info": {
   "codemirror_mode": {
    "name": "ipython",
    "version": 3
   },
   "file_extension": ".py",
   "mimetype": "text/x-python",
   "name": "python",
   "nbconvert_exporter": "python",
   "pygments_lexer": "ipython3",
   "version": "3.12.7"
  }
 },
 "nbformat": 4,
 "nbformat_minor": 5
}
